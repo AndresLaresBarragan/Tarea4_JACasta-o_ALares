{
 "cells": [
  {
   "cell_type": "markdown",
   "metadata": {},
   "source": [
    "<img style=\"float: left; margin: 30px 15px 15px 15px;\" src=\"https://pngimage.net/wp-content/uploads/2018/06/logo-iteso-png-5.png\" width=\"300\" height=\"500\" /> \n",
    "    \n",
    "    \n",
    "### <font color='navy'> Simulación de procesos financieros. \n",
    "\n",
    "**Nombres:** \n",
    " - Jose Antonio Castaño Gutierrez  \n",
    " - Andres Lares Barragan  \n",
    "**Fecha:** 19 de febrero del 2021.\n",
    "\n",
    "**Expediente** : IF711469.  \n",
    "**Expediente** : IF724055.  \n",
    "**Profesor:** Oscar David Jaramillo Zuluaga.\n",
    "\n",
    "# Tarea 4: Clase 7  \n",
    "[link al repositorio en GitHub](https://github.com/AndresLaresBarragan/Tarea4_JACasta-o_ALares)\n"
   ]
  },
  {
   "cell_type": "markdown",
   "metadata": {},
   "source": [
    "# 1\n",
    "Como ejemplo simple de una simulación de Monte Carlo, considere calcular la probabilidad de una suma particular del lanzamiento de tres dados (cada dado tiene valores del uno al seis). Además cada dado tiene las siguientes carácterísticas: el primer dado no está cargado (distribución uniforme todos son equiprobables); el segundo y tercer dado están cargados basados en una distribución binomial con parámetros (`n=5, p=0.5` y `n=5, p=0.2`). Calcule la probabilidad de que la suma resultante sea 7, 14 o 18.\n",
    "\n",
    "# 2 Ejercicio de aplicación- Cafetería Central\n",
    "\n",
    "Premisas para la simulación:\n",
    "- Negocio de alimentos que vende bebidas y alimentos.\n",
    "- Negocio dentro del ITESO.\n",
    "- Negocio en cafetería central.\n",
    "- Tipo de clientes (hombres y mujeres).\n",
    "- Rentabilidad del 60%.\n",
    "\n",
    "## Objetivo\n",
    "Realizar una simulación estimado el tiempo medio que se tardaran los clientes en ser atendidos entre el horario de 6:30 a 1 pm. Además saber el consumo. \n",
    "**Analizar supuestos y limitantes**\n",
    "\n",
    "## Supuestos en simulación\n",
    "Clasificación de clientes: \n",
    "- Mujer  = 1 $\\longrightarrow$ aleatorio < 0.5\n",
    "- Hombre = 0 $\\longrightarrow$ aleatorio $\\geq$ 0.5.\n",
    "\n",
    "Condiciones iniciales:\n",
    "- Todas las distrubuciones de probabilidad se supondrán uniformes.\n",
    "- Tiempo de simulación: 6:30 am - 1:30pm $\\longrightarrow$ T = 7 horas = 25200 seg.\n",
    "- Tiempo de llegada hasta ser atendido: Min=5seg, Max=30seg.\n",
    "- Tiempo que tardan los clientes en ser atendidos:\n",
    "    - Mujer: Min = 1 min= 60seg, Max = 5 min = 300 seg\n",
    "    - Hombre: Min = 40 seg, Max = 2 min= 120 seg\n",
    "- Consumo según el tipo de cliente:\n",
    "    - Mujer: Min = 30 pesos, Max = 100 pesos\n",
    "    - Hombre: Min = 20 pesos, Max = 80 pesos\n",
    "\n",
    "Responder las siguientes preguntas basados en los datos del problema:\n",
    "1. ¿Cuáles fueron los gastos de los hombres y las mujeres en 5 días de trabajo?.\n",
    "2. ¿Cuál fue el consumo promedio de los hombres y mujeres?\n",
    "3. ¿Cuál fue el número de personas atendidas por día?\n",
    "4. ¿Cuál fue el tiempo de atención promedio?\n",
    "5. ¿Cuánto fue la ganancia promedio de la cafetería en 5 días de trabajo y su respectiva rentabilidad?"
   ]
  },
  {
   "cell_type": "markdown",
   "metadata": {},
   "source": [
    "## Andres Lares Barragan"
   ]
  },
  {
   "cell_type": "markdown",
   "metadata": {},
   "source": [
    "### Solucion 1"
   ]
  },
  {
   "cell_type": "code",
   "execution_count": 624,
   "metadata": {},
   "outputs": [],
   "source": [
    "# importar librerias\n",
    "import numpy as np, random, matplotlib.pyplot as plt, scipy.stats as st\n",
    "from numpy import random"
   ]
  },
  {
   "cell_type": "code",
   "execution_count": 692,
   "metadata": {},
   "outputs": [],
   "source": [
    "# crear funcion que emule el comportamiento de los dados y retorne el resultado del juego.\n",
    "def suma_dados(N:'numero de lanzamientos'):\n",
    "    '''\n",
    "    Esta funcion emula el comportamiento de los tres dados descritos en el problema.\n",
    "    Toma como argumento el numero de iteraciones del experimento.\n",
    "    Retorna un array donde cada elemento es la suma de los 3 dados para cada iteracion.\n",
    "    '''\n",
    "    d1 = [random.randint(1,7) for i in range(N)]\n",
    "    d2 = [random.binomial(n = 5, p =.50,)+1 for i in range(N)]\n",
    "    d3 = [random.binomial(n = 5, p =.20)+1 for i in range(N)]\n",
    "    return np.array(d1) + np.array(d2) + np.array(d3)"
   ]
  },
  {
   "cell_type": "code",
   "execution_count": 710,
   "metadata": {
    "scrolled": true
   },
   "outputs": [
    {
     "data": {
      "text/plain": [
       "[0.127, 0.01512, 4e-05]"
      ]
     },
     "execution_count": 710,
     "metadata": {},
     "output_type": "execute_result"
    }
   ],
   "source": [
    "# calcular la probabilidad de que la suma sea igual a 7, 14 o 18.\n",
    "## almacenar los resultados en una variable\n",
    "resultados = suma_dados(25000)\n",
    "\n",
    "## contar los aciertos y dividir entre el numero total de iteraciones\n",
    "[sum([True for i in resultados if i == [j]])/len(resultados) for j in [7,14,18]]"
   ]
  },
  {
   "cell_type": "markdown",
   "metadata": {},
   "source": [
    "### Solucion 2"
   ]
  },
  {
   "cell_type": "code",
   "execution_count": 539,
   "metadata": {},
   "outputs": [
    {
     "data": {
      "text/plain": [
       "(150, 45, 330, 65)"
      ]
     },
     "execution_count": 539,
     "metadata": {},
     "output_type": "execute_result"
    }
   ],
   "source": [
    " ################## Datos del problema\n",
    "d = 5\n",
    "T =25200\n",
    "T_at_min = 5; T_at_max = 30\n",
    "T_mujer_min =60; T_mujer_max = 300\n",
    "T_hombre_min = 40; T_hombre_max = 120\n",
    "C_mujer_min = 30; C_mujer_max = 100\n",
    "C_hombre_min = 20; C_hombre_max = 80\n",
    "\n",
    "# con los datos del problema, sabemos que:\n",
    "T_total_hombre_max = (T_at_max + T_hombre_max) # es lo que mas se puede tardar un hombre EN TOTAL.\n",
    "T_total_hombre_min = (T_at_min + T_hombre_min) # es lo que menos se puede tardar un hombre EN TOTAL.\n",
    "\n",
    "T_total_mujer_max = (T_at_max + T_mujer_max) # es lo que mas se puede tardar una mujer EN TOTAL.\n",
    "T_total_mujer_min = (T_at_min + T_mujer_min) # es lo que menos se puede tardar una mujer EN TOTAL."
   ]
  },
  {
   "cell_type": "code",
   "execution_count": 605,
   "metadata": {},
   "outputs": [
    {
     "name": "stdout",
     "output_type": "stream",
     "text": [
      "Promedio del tiempo total para hombres:  97.39488690539321 Promedio del tiempo total para mujeres:  197.01946329324417\n",
      "Promedio de tiempo total para un cliente:  147.2071750993187\n"
     ]
    }
   ],
   "source": [
    "# En promedio un hombre tarda un total:\n",
    "prom_t_h = np.mean([random.uniform(T_total_hombre_min, T_total_hombre_max) for i in range(10000)])\n",
    "# En promedio una mujer tarda en total:\n",
    "prom_t_m = np.mean([random.uniform(T_total_mujer_min, T_total_mujer_max) for i in range(10000)])\n",
    "\n",
    "print('Promedio del tiempo total para hombres: ',prom_t_h,\n",
    "      'Promedio del tiempo total para mujeres: ',prom_t_m)\n",
    "\n",
    "# Valor Esperado E[tiempo total cliente] = (prob_de_hombre * prom_tiempo_total_hombre) + (prob_de_mujer * prom_tiempo_total_mujer)\n",
    "prom_t_cliente = .5*prom_t_h + .5*prom_t_m\n",
    "print('Promedio de tiempo total para un cliente: ',prom_t_cliente)"
   ]
  },
  {
   "cell_type": "code",
   "execution_count": 718,
   "metadata": {},
   "outputs": [
    {
     "data": {
      "text/plain": [
       "array([[0.15897248],\n",
       "       [0.75080149],\n",
       "       [0.78624096],\n",
       "       [0.57513226],\n",
       "       [0.15927072],\n",
       "       [0.6615733 ],\n",
       "       [0.3865909 ],\n",
       "       [0.4411403 ],\n",
       "       [0.47982091],\n",
       "       [0.60609816]])"
      ]
     },
     "execution_count": 718,
     "metadata": {},
     "output_type": "execute_result"
    }
   ],
   "source": []
  },
  {
   "cell_type": "markdown",
   "metadata": {},
   "source": [
    "# Jose Antonio Castaño Gutiérrez"
   ]
  },
  {
   "cell_type": "code",
   "execution_count": 2,
   "metadata": {},
   "outputs": [],
   "source": [
    "########### Solución 1\n"
   ]
  },
  {
   "cell_type": "code",
   "execution_count": null,
   "metadata": {},
   "outputs": [],
   "source": [
    "########### Solución 2\n",
    "################## Datos del problema\n",
    "d = 5\n",
    "T =25200\n",
    "T_at_min = 5; T_at_max = 30\n",
    "T_mujer_min =60; T_mujer_max = 300\n",
    "T_hombre_min = 40; T_hombre_max = 120\n",
    "C_mujer_min = 30; C_mujer_max = 100\n",
    "C_hombre_min = 20; C_hombre_max = 80\n"
   ]
  },
  {
   "cell_type": "markdown",
   "metadata": {},
   "source": [
    "Enlace repositorio: https://github.com/Joseancg7/Tarea4_JACasta-o_ALares"
   ]
  }
 ],
 "metadata": {
  "kernelspec": {
   "display_name": "Python 3",
   "language": "python",
   "name": "python3"
  },
  "language_info": {
   "codemirror_mode": {
    "name": "ipython",
    "version": 3
   },
   "file_extension": ".py",
   "mimetype": "text/x-python",
   "name": "python",
   "nbconvert_exporter": "python",
   "pygments_lexer": "ipython3",
   "version": "3.8.5"
  }
 },
 "nbformat": 4,
 "nbformat_minor": 5
}
